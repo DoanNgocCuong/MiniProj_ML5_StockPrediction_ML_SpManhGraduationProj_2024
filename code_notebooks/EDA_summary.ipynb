{
 "cells": [
  {
   "cell_type": "markdown",
   "metadata": {},
   "source": [
    "### **Tóm tắt siêu dễ hiểu cho học sinh cấp 2**\n",
    "\n",
    "---\n",
    "\n",
    "1. **Mean Price (Giá trung bình)** 🏷️:\n",
    "   - **Giá trung bình** của cổ phiếu trong một khoảng thời gian. Giống như tính điểm trung bình của bạn trong lớp học.\n",
    "\n",
    "---\n",
    "\n",
    "2. **Spread Mean (Khoảng cách giá trung bình)** 📏💰:\n",
    "   - **Chênh lệch trung bình** giữa giá của hai cổ phiếu (như FPT và CMG). Tưởng tượng khoảng cách trung bình giữa hai người bạn chạy đua với nhau.\n",
    "\n",
    "---\n",
    "\n",
    "3. **Std Dev (Standard Deviation - Độ lệch chuẩn)** 📊:\n",
    "   - Cho biết **giá thay đổi lên xuống thế nào** quanh giá trị trung bình. Nếu Std Dev cao, giá nhảy lên nhảy xuống nhiều. Nếu thấp, giá ít thay đổi.\n",
    "   - **Công thức**:\n",
    "     \\[$\n",
    "     \\text{Std Dev} = \\sqrt{\\frac{\\sum (x_i - \\text{Mean})^2}{n}}\n",
    "     $\\]\n",
    "   - Trong đó:\n",
    "     - \\(x_i\\): mỗi giá trị.\n",
    "     - **Mean**: giá trị trung bình.\n",
    "     - **n**: số lượng giá trị.\n",
    "\n",
    "---\n",
    "\n",
    "4. **Spread Std Dev (Độ lệch chuẩn của khoảng cách giá)** 🎢📈:\n",
    "   - Độ lệch chuẩn của **khoảng cách giữa giá hai cổ phiếu**. Nó cho biết khoảng cách giữa hai cổ phiếu thay đổi nhiều hay ít.\n",
    "\n",
    "---\n",
    "\n",
    "5. **Spread > 2 Std Dev (Khoảng cách vượt quá 2 lần độ lệch chuẩn)** 🚨⚠️:\n",
    "   - Khi khoảng cách giá giữa hai cổ phiếu **lớn hơn 2 lần độ lệch chuẩn**, điều này rất hiếm (giống như có hiện tượng lạ xảy ra). Đó có thể là **cơ hội đặc biệt để mua bán** kiếm lời!\n",
    "\n"
   ]
  },
  {
   "cell_type": "markdown",
   "metadata": {},
   "source": []
  },
  {
   "cell_type": "code",
   "execution_count": null,
   "metadata": {},
   "outputs": [],
   "source": []
  }
 ],
 "metadata": {
  "language_info": {
   "name": "python"
  }
 },
 "nbformat": 4,
 "nbformat_minor": 2
}
