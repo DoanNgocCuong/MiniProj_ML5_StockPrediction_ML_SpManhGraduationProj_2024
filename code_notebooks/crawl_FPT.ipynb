{
 "cells": [
  {
   "cell_type": "markdown",
   "metadata": {},
   "source": []
  },
  {
   "cell_type": "code",
   "execution_count": 5,
   "metadata": {},
   "outputs": [
    {
     "name": "stdout",
     "output_type": "stream",
     "text": [
      "Defaulting to user installation because normal site-packages is not writeable\n",
      "Requirement already satisfied: vnstock3 in c:\\users\\user\\appdata\\local\\packages\\pythonsoftwarefoundation.python.3.12_qbz5n2kfra8p0\\localcache\\local-packages\\python312\\site-packages (0.3.0.8)\n",
      "Requirement already satisfied: requests in c:\\users\\user\\appdata\\local\\packages\\pythonsoftwarefoundation.python.3.12_qbz5n2kfra8p0\\localcache\\local-packages\\python312\\site-packages (from vnstock3) (2.32.3)\n",
      "Requirement already satisfied: beautifulsoup4 in c:\\users\\user\\appdata\\local\\packages\\pythonsoftwarefoundation.python.3.12_qbz5n2kfra8p0\\localcache\\local-packages\\python312\\site-packages (from vnstock3) (4.12.3)\n",
      "Requirement already satisfied: pandas in c:\\users\\user\\appdata\\local\\packages\\pythonsoftwarefoundation.python.3.12_qbz5n2kfra8p0\\localcache\\local-packages\\python312\\site-packages (from vnstock3) (2.2.2)\n",
      "Requirement already satisfied: vnai>=0.1.3 in c:\\users\\user\\appdata\\local\\packages\\pythonsoftwarefoundation.python.3.12_qbz5n2kfra8p0\\localcache\\local-packages\\python312\\site-packages (from vnstock3) (0.1.3)\n",
      "Requirement already satisfied: openpyxl in c:\\users\\user\\appdata\\local\\packages\\pythonsoftwarefoundation.python.3.12_qbz5n2kfra8p0\\localcache\\local-packages\\python312\\site-packages (from vnstock3) (3.1.5)\n",
      "Requirement already satisfied: pydantic in c:\\users\\user\\appdata\\local\\packages\\pythonsoftwarefoundation.python.3.12_qbz5n2kfra8p0\\localcache\\local-packages\\python312\\site-packages (from vnstock3) (2.7.4)\n",
      "Requirement already satisfied: psutil in c:\\users\\user\\appdata\\local\\packages\\pythonsoftwarefoundation.python.3.12_qbz5n2kfra8p0\\localcache\\local-packages\\python312\\site-packages (from vnstock3) (6.0.0)\n",
      "Requirement already satisfied: fake-useragent in c:\\users\\user\\appdata\\local\\packages\\pythonsoftwarefoundation.python.3.12_qbz5n2kfra8p0\\localcache\\local-packages\\python312\\site-packages (from vnstock3) (1.5.1)\n",
      "Requirement already satisfied: vnstock-ezchart in c:\\users\\user\\appdata\\local\\packages\\pythonsoftwarefoundation.python.3.12_qbz5n2kfra8p0\\localcache\\local-packages\\python312\\site-packages (from vnstock3) (0.0.2)\n",
      "Requirement already satisfied: click in c:\\users\\user\\appdata\\local\\packages\\pythonsoftwarefoundation.python.3.12_qbz5n2kfra8p0\\localcache\\local-packages\\python312\\site-packages (from vnstock3) (8.1.7)\n",
      "Requirement already satisfied: seaborn in c:\\users\\user\\appdata\\local\\packages\\pythonsoftwarefoundation.python.3.12_qbz5n2kfra8p0\\localcache\\local-packages\\python312\\site-packages (from vnstock3) (0.13.2)\n",
      "Requirement already satisfied: cryptography in c:\\users\\user\\appdata\\local\\packages\\pythonsoftwarefoundation.python.3.12_qbz5n2kfra8p0\\localcache\\local-packages\\python312\\site-packages (from vnai>=0.1.3->vnstock3) (43.0.0)\n",
      "Requirement already satisfied: soupsieve>1.2 in c:\\users\\user\\appdata\\local\\packages\\pythonsoftwarefoundation.python.3.12_qbz5n2kfra8p0\\localcache\\local-packages\\python312\\site-packages (from beautifulsoup4->vnstock3) (2.5)\n",
      "Requirement already satisfied: colorama in c:\\users\\user\\appdata\\local\\packages\\pythonsoftwarefoundation.python.3.12_qbz5n2kfra8p0\\localcache\\local-packages\\python312\\site-packages (from click->vnstock3) (0.4.6)\n",
      "Requirement already satisfied: et-xmlfile in c:\\users\\user\\appdata\\local\\packages\\pythonsoftwarefoundation.python.3.12_qbz5n2kfra8p0\\localcache\\local-packages\\python312\\site-packages (from openpyxl->vnstock3) (1.1.0)\n",
      "Requirement already satisfied: numpy>=1.26.0 in c:\\users\\user\\appdata\\local\\packages\\pythonsoftwarefoundation.python.3.12_qbz5n2kfra8p0\\localcache\\local-packages\\python312\\site-packages (from pandas->vnstock3) (1.26.4)\n",
      "Requirement already satisfied: python-dateutil>=2.8.2 in c:\\users\\user\\appdata\\local\\packages\\pythonsoftwarefoundation.python.3.12_qbz5n2kfra8p0\\localcache\\local-packages\\python312\\site-packages (from pandas->vnstock3) (2.9.0.post0)\n",
      "Requirement already satisfied: pytz>=2020.1 in c:\\users\\user\\appdata\\local\\packages\\pythonsoftwarefoundation.python.3.12_qbz5n2kfra8p0\\localcache\\local-packages\\python312\\site-packages (from pandas->vnstock3) (2024.1)\n",
      "Requirement already satisfied: tzdata>=2022.7 in c:\\users\\user\\appdata\\local\\packages\\pythonsoftwarefoundation.python.3.12_qbz5n2kfra8p0\\localcache\\local-packages\\python312\\site-packages (from pandas->vnstock3) (2024.1)\n",
      "Requirement already satisfied: annotated-types>=0.4.0 in c:\\users\\user\\appdata\\local\\packages\\pythonsoftwarefoundation.python.3.12_qbz5n2kfra8p0\\localcache\\local-packages\\python312\\site-packages (from pydantic->vnstock3) (0.6.0)\n",
      "Requirement already satisfied: pydantic-core==2.18.4 in c:\\users\\user\\appdata\\local\\packages\\pythonsoftwarefoundation.python.3.12_qbz5n2kfra8p0\\localcache\\local-packages\\python312\\site-packages (from pydantic->vnstock3) (2.18.4)\n",
      "Requirement already satisfied: typing-extensions>=4.6.1 in c:\\users\\user\\appdata\\local\\packages\\pythonsoftwarefoundation.python.3.12_qbz5n2kfra8p0\\localcache\\local-packages\\python312\\site-packages (from pydantic->vnstock3) (4.11.0)\n",
      "Requirement already satisfied: charset-normalizer<4,>=2 in c:\\users\\user\\appdata\\local\\packages\\pythonsoftwarefoundation.python.3.12_qbz5n2kfra8p0\\localcache\\local-packages\\python312\\site-packages (from requests->vnstock3) (3.3.2)\n",
      "Requirement already satisfied: idna<4,>=2.5 in c:\\users\\user\\appdata\\local\\packages\\pythonsoftwarefoundation.python.3.12_qbz5n2kfra8p0\\localcache\\local-packages\\python312\\site-packages (from requests->vnstock3) (3.7)\n",
      "Requirement already satisfied: urllib3<3,>=1.21.1 in c:\\users\\user\\appdata\\local\\packages\\pythonsoftwarefoundation.python.3.12_qbz5n2kfra8p0\\localcache\\local-packages\\python312\\site-packages (from requests->vnstock3) (2.2.1)\n",
      "Requirement already satisfied: certifi>=2017.4.17 in c:\\users\\user\\appdata\\local\\packages\\pythonsoftwarefoundation.python.3.12_qbz5n2kfra8p0\\localcache\\local-packages\\python312\\site-packages (from requests->vnstock3) (2024.2.2)\n",
      "Requirement already satisfied: matplotlib!=3.6.1,>=3.4 in c:\\users\\user\\appdata\\local\\packages\\pythonsoftwarefoundation.python.3.12_qbz5n2kfra8p0\\localcache\\local-packages\\python312\\site-packages (from seaborn->vnstock3) (3.9.0)\n",
      "Requirement already satisfied: squarify in c:\\users\\user\\appdata\\local\\packages\\pythonsoftwarefoundation.python.3.12_qbz5n2kfra8p0\\localcache\\local-packages\\python312\\site-packages (from vnstock-ezchart->vnstock3) (0.4.4)\n",
      "Requirement already satisfied: wordcloud in c:\\users\\user\\appdata\\local\\packages\\pythonsoftwarefoundation.python.3.12_qbz5n2kfra8p0\\localcache\\local-packages\\python312\\site-packages (from vnstock-ezchart->vnstock3) (1.9.3)\n",
      "Requirement already satisfied: vnstock in c:\\users\\user\\appdata\\local\\packages\\pythonsoftwarefoundation.python.3.12_qbz5n2kfra8p0\\localcache\\local-packages\\python312\\site-packages (from vnstock-ezchart->vnstock3) (0.2.9.2.3)\n",
      "Requirement already satisfied: contourpy>=1.0.1 in c:\\users\\user\\appdata\\local\\packages\\pythonsoftwarefoundation.python.3.12_qbz5n2kfra8p0\\localcache\\local-packages\\python312\\site-packages (from matplotlib!=3.6.1,>=3.4->seaborn->vnstock3) (1.2.1)\n",
      "Requirement already satisfied: cycler>=0.10 in c:\\users\\user\\appdata\\local\\packages\\pythonsoftwarefoundation.python.3.12_qbz5n2kfra8p0\\localcache\\local-packages\\python312\\site-packages (from matplotlib!=3.6.1,>=3.4->seaborn->vnstock3) (0.12.1)\n",
      "Requirement already satisfied: fonttools>=4.22.0 in c:\\users\\user\\appdata\\local\\packages\\pythonsoftwarefoundation.python.3.12_qbz5n2kfra8p0\\localcache\\local-packages\\python312\\site-packages (from matplotlib!=3.6.1,>=3.4->seaborn->vnstock3) (4.51.0)\n",
      "Requirement already satisfied: kiwisolver>=1.3.1 in c:\\users\\user\\appdata\\local\\packages\\pythonsoftwarefoundation.python.3.12_qbz5n2kfra8p0\\localcache\\local-packages\\python312\\site-packages (from matplotlib!=3.6.1,>=3.4->seaborn->vnstock3) (1.4.5)\n",
      "Requirement already satisfied: packaging>=20.0 in c:\\users\\user\\appdata\\local\\packages\\pythonsoftwarefoundation.python.3.12_qbz5n2kfra8p0\\localcache\\local-packages\\python312\\site-packages (from matplotlib!=3.6.1,>=3.4->seaborn->vnstock3) (23.2)\n",
      "Requirement already satisfied: pillow>=8 in c:\\users\\user\\appdata\\local\\packages\\pythonsoftwarefoundation.python.3.12_qbz5n2kfra8p0\\localcache\\local-packages\\python312\\site-packages (from matplotlib!=3.6.1,>=3.4->seaborn->vnstock3) (10.3.0)\n",
      "Requirement already satisfied: pyparsing>=2.3.1 in c:\\users\\user\\appdata\\local\\packages\\pythonsoftwarefoundation.python.3.12_qbz5n2kfra8p0\\localcache\\local-packages\\python312\\site-packages (from matplotlib!=3.6.1,>=3.4->seaborn->vnstock3) (3.1.2)\n",
      "Requirement already satisfied: six>=1.5 in c:\\users\\user\\appdata\\local\\packages\\pythonsoftwarefoundation.python.3.12_qbz5n2kfra8p0\\localcache\\local-packages\\python312\\site-packages (from python-dateutil>=2.8.2->pandas->vnstock3) (1.16.0)\n",
      "Requirement already satisfied: cffi>=1.12 in c:\\users\\user\\appdata\\local\\packages\\pythonsoftwarefoundation.python.3.12_qbz5n2kfra8p0\\localcache\\local-packages\\python312\\site-packages (from cryptography->vnai>=0.1.3->vnstock3) (1.16.0)\n",
      "Requirement already satisfied: pycparser in c:\\users\\user\\appdata\\local\\packages\\pythonsoftwarefoundation.python.3.12_qbz5n2kfra8p0\\localcache\\local-packages\\python312\\site-packages (from cffi>=1.12->cryptography->vnai>=0.1.3->vnstock3) (2.22)\n"
     ]
    }
   ],
   "source": [
    "!pip install -U vnstock3"
   ]
  },
  {
   "cell_type": "code",
   "execution_count": 10,
   "metadata": {},
   "outputs": [
    {
     "name": "stderr",
     "output_type": "stream",
     "text": [
      "2024-10-23 23:23:08,226 - vnstock3.common.data.data_explorer - WARNING - Thông tin niêm yết & giao dịch sẽ được truy xuất từ TCBS\n"
     ]
    },
    {
     "name": "stdout",
     "output_type": "stream",
     "text": [
      "          time    open    high     low   close   volume\n",
      "0   2023-01-03   56.42   58.70   56.35   58.70  1538861\n",
      "1   2023-01-04   59.29   59.43   58.19   58.70   796544\n",
      "2   2023-01-05   58.85   59.80   58.85   59.14  1014719\n",
      "3   2023-01-06   58.99   59.51   58.85   58.92   721096\n",
      "4   2023-01-09   59.07   59.36   58.63   58.92   520315\n",
      "..         ...     ...     ...     ...     ...      ...\n",
      "445 2024-10-17  136.50  137.10  135.50  137.00  2579200\n",
      "446 2024-10-18  137.40  137.80  136.60  137.00  2169400\n",
      "447 2024-10-21  137.00  137.70  135.50  135.50  2681300\n",
      "448 2024-10-22  135.70  135.70  133.00  133.10  6009200\n",
      "449 2024-10-23  132.90  134.80  132.60  134.20  3015100\n",
      "\n",
      "[450 rows x 6 columns]\n"
     ]
    }
   ],
   "source": [
    "# Importing the Vnstock class from vnstock3 and other necessary modules\n",
    "from vnstock3 import Vnstock\n",
    "import datetime\n",
    "\n",
    "# Querying stock data for FPT\n",
    "ticker_symbol = 'FPT'\n",
    "\n",
    "# Create a Vnstock object and fetch historical stock data for FPT up to today\n",
    "stock = Vnstock().stock(symbol=ticker_symbol, source='VCI')\n",
    "\n",
    "# Fetch historical stock data using the method from the stock object\n",
    "fpt_stock_data = stock.quote.history(start='2023-01-01', end=datetime.datetime.now().strftime('%Y-%m-%d'))\n",
    "\n",
    "# Display the fetched data\n",
    "print(fpt_stock_data)\n"
   ]
  },
  {
   "cell_type": "code",
   "execution_count": 16,
   "metadata": {},
   "outputs": [
    {
     "name": "stderr",
     "output_type": "stream",
     "text": [
      "2024-10-23 23:26:09,987 - vnstock3.common.data.data_explorer - WARNING - Thông tin niêm yết & giao dịch sẽ được truy xuất từ TCBS\n"
     ]
    },
    {
     "name": "stdout",
     "output_type": "stream",
     "text": [
      "Data saved to ../data/raw/fpt_stock_data1.csv\n",
      "          time    open    high     low   close   volume\n",
      "0   2023-01-03   56.42   58.70   56.35   58.70  1538861\n",
      "1   2023-01-04   59.29   59.43   58.19   58.70   796544\n",
      "2   2023-01-05   58.85   59.80   58.85   59.14  1014719\n",
      "3   2023-01-06   58.99   59.51   58.85   58.92   721096\n",
      "4   2023-01-09   59.07   59.36   58.63   58.92   520315\n",
      "..         ...     ...     ...     ...     ...      ...\n",
      "445 2024-10-17  136.50  137.10  135.50  137.00  2579200\n",
      "446 2024-10-18  137.40  137.80  136.60  137.00  2169400\n",
      "447 2024-10-21  137.00  137.70  135.50  135.50  2681300\n",
      "448 2024-10-22  135.70  135.70  133.00  133.10  6009200\n",
      "449 2024-10-23  132.90  134.80  132.60  134.20  3015100\n",
      "\n",
      "[450 rows x 6 columns]\n"
     ]
    }
   ],
   "source": [
    "# Importing the Vnstock class from vnstock3 and other necessary modules\n",
    "from vnstock3 import Vnstock\n",
    "import datetime\n",
    "import pandas as pd\n",
    "import os\n",
    "\n",
    "# Querying stock data for FPT\n",
    "ticker_symbol = 'FPT'\n",
    "\n",
    "# Create a Vnstock object and fetch historical stock data for FPT up to today\n",
    "stock = Vnstock().stock(symbol=ticker_symbol, source='VCI')\n",
    "\n",
    "# Fetch historical stock data using the method from the stock object\n",
    "fpt_stock_data = stock.quote.history(start='2023-01-01', end=datetime.datetime.now().strftime('%Y-%m-%d'))\n",
    "\n",
    "# Ensure the directory exists before saving the data\n",
    "os.makedirs('../data/raw', exist_ok=True) \n",
    "\n",
    "# Save the fetched data to a CSV file in the data/raw directory\n",
    "file_path = '../data/raw/fpt_stock_data1.csv'\n",
    "fpt_stock_data.to_csv(file_path, index=False)\n",
    "print(f\"Data saved to {file_path}\")\n",
    "\n",
    "# Display the fetched data\n",
    "print(fpt_stock_data)\n"
   ]
  },
  {
   "cell_type": "markdown",
   "metadata": {},
   "source": [
    "\n",
    "Giải thích code\n",
    "```python\n",
    "\n",
    "# Đảm bảo thư mục tồn tại trước khi lưu dữ liệu\n",
    "# '.' : Thư mục hiện tại (current directory)\n",
    "# '..' : Thư mục cha/thư mục trên một cấp (parent directory)\n",
    "# Ví dụ: \n",
    "# - Nếu bạn đang ở '/code_notebooks', thì '..' sẽ trỏ đến thư mục gốc của project\n",
    "# - '../data/raw' nghĩa là: đi ra thư mục cha, sau đó vào thư mục 'data', rồi vào thư mục 'raw'\n",
    "os.makedirs('../data/raw', exist_ok=True) \n",
    "\n",
    "# Lưu dữ liệu vào file CSV trong thư mục data/raw\n",
    "# '../data/raw/fpt_stock_data1.csv' là đường dẫn tương đối:\n",
    "# - Đi ra khỏi thư mục hiện tại ('..')\n",
    "# - Vào thư mục data\n",
    "# - Vào thư mục raw\n",
    "# - Tạo/ghi file 'fpt_stock_data1.csv'\n",
    "file_path = '../data/raw/fpt_stock_data1.csv'\n",
    "```"
   ]
  },
  {
   "cell_type": "markdown",
   "metadata": {},
   "source": [
    "Xem thêm workflow tại: https://vnstocks.com/docs/huong-dan/recipe-template-workflow-mau-ung-dung"
   ]
  }
 ],
 "metadata": {
  "kernelspec": {
   "display_name": "Python 3",
   "language": "python",
   "name": "python3"
  },
  "language_info": {
   "codemirror_mode": {
    "name": "ipython",
    "version": 3
   },
   "file_extension": ".py",
   "mimetype": "text/x-python",
   "name": "python",
   "nbconvert_exporter": "python",
   "pygments_lexer": "ipython3",
   "version": "3.12.7"
  }
 },
 "nbformat": 4,
 "nbformat_minor": 2
}
