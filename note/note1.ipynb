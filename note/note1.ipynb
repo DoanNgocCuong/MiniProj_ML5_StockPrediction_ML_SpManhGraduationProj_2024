{
 "cells": [
  {
   "cell_type": "markdown",
   "metadata": {},
   "source": [
    "\n",
    "\n",
    "Tôi sẽ giải thích lỗi và cách sửa bằng tiếng Việt:\n",
    "\n",
    "### Vấn đề là gì?\n",
    "Lỗi xảy ra vì hai bộ dữ liệu CMT và DGW có số lượng ngày giao dịch khác nhau (449 ngày so với 448 ngày). Khi chúng ta cố gắng tính toán beta và correlation giữa hai cổ phiếu này, Python không thể thực hiện được vì độ dài dữ liệu không khớp nhau.\n",
    "\n",
    "### Cách sửa:\n",
    "```python:code_notebooks/EDA_CMTvsDGW.ipynb\n",
    "# Căn chỉnh ngày giao dịch trước khi tính toán beta và correlation\n",
    "common_dates = cmt_df.index.intersection(dgw_df.index)\n",
    "cmt_aligned = cmt_df.loc[common_dates]\n",
    "dgw_aligned = dgw_df.loc[common_dates]\n",
    "\n",
    "# Tính correlation với dữ liệu đã được căn chỉnh\n",
    "correlation = cmt_aligned['close'].corr(dgw_aligned['close'])\n",
    "\n",
    "# Tính beta với dữ liệu đã được căn chỉnh\n",
    "cmt_returns = cmt_aligned['daily_returns'].dropna()\n",
    "dgw_returns = dgw_aligned['daily_returns'].dropna()\n",
    "beta = np.cov(dgw_returns, cmt_returns)[0,1] / np.var(cmt_returns)\n",
    "```\n",
    "\n",
    "### Giải thích chi tiết:\n",
    "1. `intersection()`: Tìm những ngày giao dịch chung giữa hai cổ phiếu\n",
    "2. `loc[common_dates]`: Chỉ lấy dữ liệu của những ngày chung đó\n",
    "3. Sau khi căn chỉnh, hai bộ dữ liệu sẽ có cùng số lượng ngày và khớp nhau về mặt thời gian\n",
    "\n",
    "### Tại sao cần làm vậy?\n",
    "- Trong thực tế, các cổ phiếu có thể có số ngày giao dịch khác nhau vì nhiều lý do:\n",
    "  - Có ngày một cổ phiếu bị tạm ngừng giao dịch\n",
    "  - Thiếu dữ liệu ở một số ngày\n",
    "  - Ngày niêm yết khác nhau\n",
    "- Để so sánh chính xác, ta cần đảm bảo chỉ tính toán trên những ngày mà cả hai cổ phiếu đều có dữ liệu"
   ]
  }
 ],
 "metadata": {
  "language_info": {
   "name": "python"
  }
 },
 "nbformat": 4,
 "nbformat_minor": 2
}
